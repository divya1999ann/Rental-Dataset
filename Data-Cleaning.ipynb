{
 "cells": [
  {
   "cell_type": "code",
   "execution_count": 98,
   "metadata": {},
   "outputs": [],
   "source": [
    "import pandas as pd\n",
    "import seaborn as sns\n",
    "import matplotlib.pyplot as plt\n",
    "\n",
    "%matplotlib inline"
   ]
  },
  {
   "cell_type": "code",
   "execution_count": 99,
   "metadata": {},
   "outputs": [],
   "source": [
    "data = pd.read_csv('datasets.csv')"
   ]
  },
  {
   "cell_type": "code",
   "execution_count": 100,
   "metadata": {},
   "outputs": [
    {
     "data": {
      "text/html": [
       "<div>\n",
       "<style scoped>\n",
       "    .dataframe tbody tr th:only-of-type {\n",
       "        vertical-align: middle;\n",
       "    }\n",
       "\n",
       "    .dataframe tbody tr th {\n",
       "        vertical-align: top;\n",
       "    }\n",
       "\n",
       "    .dataframe thead th {\n",
       "        text-align: right;\n",
       "    }\n",
       "</style>\n",
       "<table border=\"1\" class=\"dataframe\">\n",
       "  <thead>\n",
       "    <tr style=\"text-align: right;\">\n",
       "      <th></th>\n",
       "      <th>Unnamed: 0</th>\n",
       "      <th>city</th>\n",
       "      <th>area</th>\n",
       "      <th>rooms</th>\n",
       "      <th>bathroom</th>\n",
       "      <th>parking spaces</th>\n",
       "      <th>floor</th>\n",
       "      <th>animal</th>\n",
       "      <th>furniture</th>\n",
       "      <th>hoa</th>\n",
       "      <th>rent amount</th>\n",
       "      <th>property tax</th>\n",
       "      <th>fire insurance</th>\n",
       "      <th>total</th>\n",
       "    </tr>\n",
       "  </thead>\n",
       "  <tbody>\n",
       "    <tr>\n",
       "      <th>0</th>\n",
       "      <td>0</td>\n",
       "      <td>1</td>\n",
       "      <td>240</td>\n",
       "      <td>3</td>\n",
       "      <td>3</td>\n",
       "      <td>4</td>\n",
       "      <td>-</td>\n",
       "      <td>acept</td>\n",
       "      <td>furnished</td>\n",
       "      <td>R$0</td>\n",
       "      <td>R$8,000</td>\n",
       "      <td>R$1,000</td>\n",
       "      <td>R$121</td>\n",
       "      <td>R$9,121</td>\n",
       "    </tr>\n",
       "    <tr>\n",
       "      <th>1</th>\n",
       "      <td>1</td>\n",
       "      <td>0</td>\n",
       "      <td>64</td>\n",
       "      <td>2</td>\n",
       "      <td>1</td>\n",
       "      <td>1</td>\n",
       "      <td>10</td>\n",
       "      <td>acept</td>\n",
       "      <td>not furnished</td>\n",
       "      <td>R$540</td>\n",
       "      <td>R$820</td>\n",
       "      <td>R$122</td>\n",
       "      <td>R$11</td>\n",
       "      <td>R$1,493</td>\n",
       "    </tr>\n",
       "    <tr>\n",
       "      <th>2</th>\n",
       "      <td>2</td>\n",
       "      <td>1</td>\n",
       "      <td>443</td>\n",
       "      <td>5</td>\n",
       "      <td>5</td>\n",
       "      <td>4</td>\n",
       "      <td>3</td>\n",
       "      <td>acept</td>\n",
       "      <td>furnished</td>\n",
       "      <td>R$4,172</td>\n",
       "      <td>R$7,000</td>\n",
       "      <td>R$1,417</td>\n",
       "      <td>R$89</td>\n",
       "      <td>R$12,680</td>\n",
       "    </tr>\n",
       "    <tr>\n",
       "      <th>3</th>\n",
       "      <td>3</td>\n",
       "      <td>1</td>\n",
       "      <td>73</td>\n",
       "      <td>2</td>\n",
       "      <td>2</td>\n",
       "      <td>1</td>\n",
       "      <td>12</td>\n",
       "      <td>acept</td>\n",
       "      <td>not furnished</td>\n",
       "      <td>R$700</td>\n",
       "      <td>R$1,250</td>\n",
       "      <td>R$150</td>\n",
       "      <td>R$16</td>\n",
       "      <td>R$2,116</td>\n",
       "    </tr>\n",
       "    <tr>\n",
       "      <th>4</th>\n",
       "      <td>4</td>\n",
       "      <td>1</td>\n",
       "      <td>19</td>\n",
       "      <td>1</td>\n",
       "      <td>1</td>\n",
       "      <td>0</td>\n",
       "      <td>-</td>\n",
       "      <td>not acept</td>\n",
       "      <td>not furnished</td>\n",
       "      <td>R$0</td>\n",
       "      <td>R$1,200</td>\n",
       "      <td>R$41</td>\n",
       "      <td>R$16</td>\n",
       "      <td>R$1,257</td>\n",
       "    </tr>\n",
       "    <tr>\n",
       "      <th>...</th>\n",
       "      <td>...</td>\n",
       "      <td>...</td>\n",
       "      <td>...</td>\n",
       "      <td>...</td>\n",
       "      <td>...</td>\n",
       "      <td>...</td>\n",
       "      <td>...</td>\n",
       "      <td>...</td>\n",
       "      <td>...</td>\n",
       "      <td>...</td>\n",
       "      <td>...</td>\n",
       "      <td>...</td>\n",
       "      <td>...</td>\n",
       "      <td>...</td>\n",
       "    </tr>\n",
       "    <tr>\n",
       "      <th>6075</th>\n",
       "      <td>6075</td>\n",
       "      <td>1</td>\n",
       "      <td>50</td>\n",
       "      <td>2</td>\n",
       "      <td>1</td>\n",
       "      <td>1</td>\n",
       "      <td>2</td>\n",
       "      <td>acept</td>\n",
       "      <td>not furnished</td>\n",
       "      <td>R$420</td>\n",
       "      <td>R$1,150</td>\n",
       "      <td>R$0</td>\n",
       "      <td>R$15</td>\n",
       "      <td>R$1,585</td>\n",
       "    </tr>\n",
       "    <tr>\n",
       "      <th>6076</th>\n",
       "      <td>6076</td>\n",
       "      <td>1</td>\n",
       "      <td>84</td>\n",
       "      <td>2</td>\n",
       "      <td>2</td>\n",
       "      <td>1</td>\n",
       "      <td>16</td>\n",
       "      <td>not acept</td>\n",
       "      <td>furnished</td>\n",
       "      <td>R$768</td>\n",
       "      <td>R$2,900</td>\n",
       "      <td>R$63</td>\n",
       "      <td>R$37</td>\n",
       "      <td>R$3,768</td>\n",
       "    </tr>\n",
       "    <tr>\n",
       "      <th>6077</th>\n",
       "      <td>6077</td>\n",
       "      <td>0</td>\n",
       "      <td>48</td>\n",
       "      <td>1</td>\n",
       "      <td>1</td>\n",
       "      <td>0</td>\n",
       "      <td>13</td>\n",
       "      <td>acept</td>\n",
       "      <td>not furnished</td>\n",
       "      <td>R$250</td>\n",
       "      <td>R$950</td>\n",
       "      <td>R$42</td>\n",
       "      <td>R$13</td>\n",
       "      <td>R$1,255</td>\n",
       "    </tr>\n",
       "    <tr>\n",
       "      <th>6078</th>\n",
       "      <td>6078</td>\n",
       "      <td>1</td>\n",
       "      <td>160</td>\n",
       "      <td>3</td>\n",
       "      <td>2</td>\n",
       "      <td>2</td>\n",
       "      <td>-</td>\n",
       "      <td>not acept</td>\n",
       "      <td>not furnished</td>\n",
       "      <td>R$0</td>\n",
       "      <td>R$3,500</td>\n",
       "      <td>R$250</td>\n",
       "      <td>R$53</td>\n",
       "      <td>R$3,803</td>\n",
       "    </tr>\n",
       "    <tr>\n",
       "      <th>6079</th>\n",
       "      <td>6079</td>\n",
       "      <td>1</td>\n",
       "      <td>60</td>\n",
       "      <td>2</td>\n",
       "      <td>1</td>\n",
       "      <td>1</td>\n",
       "      <td>4</td>\n",
       "      <td>acept</td>\n",
       "      <td>furnished</td>\n",
       "      <td>R$489</td>\n",
       "      <td>R$1,900</td>\n",
       "      <td>R$0</td>\n",
       "      <td>R$25</td>\n",
       "      <td>R$2,414</td>\n",
       "    </tr>\n",
       "  </tbody>\n",
       "</table>\n",
       "<p>6080 rows × 14 columns</p>\n",
       "</div>"
      ],
      "text/plain": [
       "      Unnamed: 0  city  area  rooms  bathroom  parking spaces floor  \\\n",
       "0              0     1   240      3         3               4     -   \n",
       "1              1     0    64      2         1               1    10   \n",
       "2              2     1   443      5         5               4     3   \n",
       "3              3     1    73      2         2               1    12   \n",
       "4              4     1    19      1         1               0     -   \n",
       "...          ...   ...   ...    ...       ...             ...   ...   \n",
       "6075        6075     1    50      2         1               1     2   \n",
       "6076        6076     1    84      2         2               1    16   \n",
       "6077        6077     0    48      1         1               0    13   \n",
       "6078        6078     1   160      3         2               2     -   \n",
       "6079        6079     1    60      2         1               1     4   \n",
       "\n",
       "         animal      furniture      hoa rent amount property tax  \\\n",
       "0         acept      furnished      R$0     R$8,000      R$1,000   \n",
       "1         acept  not furnished    R$540       R$820        R$122   \n",
       "2         acept      furnished  R$4,172     R$7,000      R$1,417   \n",
       "3         acept  not furnished    R$700     R$1,250        R$150   \n",
       "4     not acept  not furnished      R$0     R$1,200         R$41   \n",
       "...         ...            ...      ...         ...          ...   \n",
       "6075      acept  not furnished    R$420     R$1,150          R$0   \n",
       "6076  not acept      furnished    R$768     R$2,900         R$63   \n",
       "6077      acept  not furnished    R$250       R$950         R$42   \n",
       "6078  not acept  not furnished      R$0     R$3,500        R$250   \n",
       "6079      acept      furnished    R$489     R$1,900          R$0   \n",
       "\n",
       "     fire insurance     total  \n",
       "0             R$121   R$9,121  \n",
       "1              R$11   R$1,493  \n",
       "2              R$89  R$12,680  \n",
       "3              R$16   R$2,116  \n",
       "4              R$16   R$1,257  \n",
       "...             ...       ...  \n",
       "6075           R$15   R$1,585  \n",
       "6076           R$37   R$3,768  \n",
       "6077           R$13   R$1,255  \n",
       "6078           R$53   R$3,803  \n",
       "6079           R$25   R$2,414  \n",
       "\n",
       "[6080 rows x 14 columns]"
      ]
     },
     "execution_count": 100,
     "metadata": {},
     "output_type": "execute_result"
    }
   ],
   "source": [
    "data"
   ]
  },
  {
   "cell_type": "code",
   "execution_count": 101,
   "metadata": {},
   "outputs": [],
   "source": [
    "data.drop(['Unnamed: 0'], axis=1, inplace=True)"
   ]
  },
  {
   "cell_type": "code",
   "execution_count": 102,
   "metadata": {},
   "outputs": [
    {
     "data": {
      "text/html": [
       "<div>\n",
       "<style scoped>\n",
       "    .dataframe tbody tr th:only-of-type {\n",
       "        vertical-align: middle;\n",
       "    }\n",
       "\n",
       "    .dataframe tbody tr th {\n",
       "        vertical-align: top;\n",
       "    }\n",
       "\n",
       "    .dataframe thead th {\n",
       "        text-align: right;\n",
       "    }\n",
       "</style>\n",
       "<table border=\"1\" class=\"dataframe\">\n",
       "  <thead>\n",
       "    <tr style=\"text-align: right;\">\n",
       "      <th></th>\n",
       "      <th>city</th>\n",
       "      <th>area</th>\n",
       "      <th>rooms</th>\n",
       "      <th>bathroom</th>\n",
       "      <th>parking spaces</th>\n",
       "      <th>floor</th>\n",
       "      <th>animal</th>\n",
       "      <th>furniture</th>\n",
       "      <th>hoa</th>\n",
       "      <th>rent amount</th>\n",
       "      <th>property tax</th>\n",
       "      <th>fire insurance</th>\n",
       "      <th>total</th>\n",
       "    </tr>\n",
       "  </thead>\n",
       "  <tbody>\n",
       "    <tr>\n",
       "      <th>0</th>\n",
       "      <td>1</td>\n",
       "      <td>240</td>\n",
       "      <td>3</td>\n",
       "      <td>3</td>\n",
       "      <td>4</td>\n",
       "      <td>-</td>\n",
       "      <td>acept</td>\n",
       "      <td>furnished</td>\n",
       "      <td>R$0</td>\n",
       "      <td>R$8,000</td>\n",
       "      <td>R$1,000</td>\n",
       "      <td>R$121</td>\n",
       "      <td>R$9,121</td>\n",
       "    </tr>\n",
       "    <tr>\n",
       "      <th>1</th>\n",
       "      <td>0</td>\n",
       "      <td>64</td>\n",
       "      <td>2</td>\n",
       "      <td>1</td>\n",
       "      <td>1</td>\n",
       "      <td>10</td>\n",
       "      <td>acept</td>\n",
       "      <td>not furnished</td>\n",
       "      <td>R$540</td>\n",
       "      <td>R$820</td>\n",
       "      <td>R$122</td>\n",
       "      <td>R$11</td>\n",
       "      <td>R$1,493</td>\n",
       "    </tr>\n",
       "    <tr>\n",
       "      <th>2</th>\n",
       "      <td>1</td>\n",
       "      <td>443</td>\n",
       "      <td>5</td>\n",
       "      <td>5</td>\n",
       "      <td>4</td>\n",
       "      <td>3</td>\n",
       "      <td>acept</td>\n",
       "      <td>furnished</td>\n",
       "      <td>R$4,172</td>\n",
       "      <td>R$7,000</td>\n",
       "      <td>R$1,417</td>\n",
       "      <td>R$89</td>\n",
       "      <td>R$12,680</td>\n",
       "    </tr>\n",
       "    <tr>\n",
       "      <th>3</th>\n",
       "      <td>1</td>\n",
       "      <td>73</td>\n",
       "      <td>2</td>\n",
       "      <td>2</td>\n",
       "      <td>1</td>\n",
       "      <td>12</td>\n",
       "      <td>acept</td>\n",
       "      <td>not furnished</td>\n",
       "      <td>R$700</td>\n",
       "      <td>R$1,250</td>\n",
       "      <td>R$150</td>\n",
       "      <td>R$16</td>\n",
       "      <td>R$2,116</td>\n",
       "    </tr>\n",
       "    <tr>\n",
       "      <th>4</th>\n",
       "      <td>1</td>\n",
       "      <td>19</td>\n",
       "      <td>1</td>\n",
       "      <td>1</td>\n",
       "      <td>0</td>\n",
       "      <td>-</td>\n",
       "      <td>not acept</td>\n",
       "      <td>not furnished</td>\n",
       "      <td>R$0</td>\n",
       "      <td>R$1,200</td>\n",
       "      <td>R$41</td>\n",
       "      <td>R$16</td>\n",
       "      <td>R$1,257</td>\n",
       "    </tr>\n",
       "  </tbody>\n",
       "</table>\n",
       "</div>"
      ],
      "text/plain": [
       "   city  area  rooms  bathroom  parking spaces floor     animal  \\\n",
       "0     1   240      3         3               4     -      acept   \n",
       "1     0    64      2         1               1    10      acept   \n",
       "2     1   443      5         5               4     3      acept   \n",
       "3     1    73      2         2               1    12      acept   \n",
       "4     1    19      1         1               0     -  not acept   \n",
       "\n",
       "       furniture      hoa rent amount property tax fire insurance     total  \n",
       "0      furnished      R$0     R$8,000      R$1,000          R$121   R$9,121  \n",
       "1  not furnished    R$540       R$820        R$122           R$11   R$1,493  \n",
       "2      furnished  R$4,172     R$7,000      R$1,417           R$89  R$12,680  \n",
       "3  not furnished    R$700     R$1,250        R$150           R$16   R$2,116  \n",
       "4  not furnished      R$0     R$1,200         R$41           R$16   R$1,257  "
      ]
     },
     "execution_count": 102,
     "metadata": {},
     "output_type": "execute_result"
    }
   ],
   "source": [
    "data.head()"
   ]
  },
  {
   "cell_type": "code",
   "execution_count": 103,
   "metadata": {},
   "outputs": [
    {
     "data": {
      "text/html": [
       "<div>\n",
       "<style scoped>\n",
       "    .dataframe tbody tr th:only-of-type {\n",
       "        vertical-align: middle;\n",
       "    }\n",
       "\n",
       "    .dataframe tbody tr th {\n",
       "        vertical-align: top;\n",
       "    }\n",
       "\n",
       "    .dataframe thead th {\n",
       "        text-align: right;\n",
       "    }\n",
       "</style>\n",
       "<table border=\"1\" class=\"dataframe\">\n",
       "  <thead>\n",
       "    <tr style=\"text-align: right;\">\n",
       "      <th></th>\n",
       "      <th>city</th>\n",
       "      <th>area</th>\n",
       "      <th>rooms</th>\n",
       "      <th>bathroom</th>\n",
       "      <th>parking spaces</th>\n",
       "      <th>floor</th>\n",
       "      <th>animal</th>\n",
       "      <th>furniture</th>\n",
       "      <th>hoa</th>\n",
       "      <th>rent amount</th>\n",
       "      <th>property tax</th>\n",
       "      <th>fire insurance</th>\n",
       "      <th>total</th>\n",
       "    </tr>\n",
       "  </thead>\n",
       "  <tbody>\n",
       "    <tr>\n",
       "      <th>6075</th>\n",
       "      <td>1</td>\n",
       "      <td>50</td>\n",
       "      <td>2</td>\n",
       "      <td>1</td>\n",
       "      <td>1</td>\n",
       "      <td>2</td>\n",
       "      <td>acept</td>\n",
       "      <td>not furnished</td>\n",
       "      <td>R$420</td>\n",
       "      <td>R$1,150</td>\n",
       "      <td>R$0</td>\n",
       "      <td>R$15</td>\n",
       "      <td>R$1,585</td>\n",
       "    </tr>\n",
       "    <tr>\n",
       "      <th>6076</th>\n",
       "      <td>1</td>\n",
       "      <td>84</td>\n",
       "      <td>2</td>\n",
       "      <td>2</td>\n",
       "      <td>1</td>\n",
       "      <td>16</td>\n",
       "      <td>not acept</td>\n",
       "      <td>furnished</td>\n",
       "      <td>R$768</td>\n",
       "      <td>R$2,900</td>\n",
       "      <td>R$63</td>\n",
       "      <td>R$37</td>\n",
       "      <td>R$3,768</td>\n",
       "    </tr>\n",
       "    <tr>\n",
       "      <th>6077</th>\n",
       "      <td>0</td>\n",
       "      <td>48</td>\n",
       "      <td>1</td>\n",
       "      <td>1</td>\n",
       "      <td>0</td>\n",
       "      <td>13</td>\n",
       "      <td>acept</td>\n",
       "      <td>not furnished</td>\n",
       "      <td>R$250</td>\n",
       "      <td>R$950</td>\n",
       "      <td>R$42</td>\n",
       "      <td>R$13</td>\n",
       "      <td>R$1,255</td>\n",
       "    </tr>\n",
       "    <tr>\n",
       "      <th>6078</th>\n",
       "      <td>1</td>\n",
       "      <td>160</td>\n",
       "      <td>3</td>\n",
       "      <td>2</td>\n",
       "      <td>2</td>\n",
       "      <td>-</td>\n",
       "      <td>not acept</td>\n",
       "      <td>not furnished</td>\n",
       "      <td>R$0</td>\n",
       "      <td>R$3,500</td>\n",
       "      <td>R$250</td>\n",
       "      <td>R$53</td>\n",
       "      <td>R$3,803</td>\n",
       "    </tr>\n",
       "    <tr>\n",
       "      <th>6079</th>\n",
       "      <td>1</td>\n",
       "      <td>60</td>\n",
       "      <td>2</td>\n",
       "      <td>1</td>\n",
       "      <td>1</td>\n",
       "      <td>4</td>\n",
       "      <td>acept</td>\n",
       "      <td>furnished</td>\n",
       "      <td>R$489</td>\n",
       "      <td>R$1,900</td>\n",
       "      <td>R$0</td>\n",
       "      <td>R$25</td>\n",
       "      <td>R$2,414</td>\n",
       "    </tr>\n",
       "  </tbody>\n",
       "</table>\n",
       "</div>"
      ],
      "text/plain": [
       "      city  area  rooms  bathroom  parking spaces floor     animal  \\\n",
       "6075     1    50      2         1               1     2      acept   \n",
       "6076     1    84      2         2               1    16  not acept   \n",
       "6077     0    48      1         1               0    13      acept   \n",
       "6078     1   160      3         2               2     -  not acept   \n",
       "6079     1    60      2         1               1     4      acept   \n",
       "\n",
       "          furniture    hoa rent amount property tax fire insurance    total  \n",
       "6075  not furnished  R$420     R$1,150          R$0           R$15  R$1,585  \n",
       "6076      furnished  R$768     R$2,900         R$63           R$37  R$3,768  \n",
       "6077  not furnished  R$250       R$950         R$42           R$13  R$1,255  \n",
       "6078  not furnished    R$0     R$3,500        R$250           R$53  R$3,803  \n",
       "6079      furnished  R$489     R$1,900          R$0           R$25  R$2,414  "
      ]
     },
     "execution_count": 103,
     "metadata": {},
     "output_type": "execute_result"
    }
   ],
   "source": [
    "data.tail()"
   ]
  },
  {
   "cell_type": "code",
   "execution_count": 104,
   "metadata": {},
   "outputs": [
    {
     "data": {
      "text/plain": [
       "(6080, 13)"
      ]
     },
     "execution_count": 104,
     "metadata": {},
     "output_type": "execute_result"
    }
   ],
   "source": [
    "data.shape"
   ]
  },
  {
   "cell_type": "code",
   "execution_count": 105,
   "metadata": {},
   "outputs": [
    {
     "data": {
      "text/plain": [
       "city              False\n",
       "area              False\n",
       "rooms             False\n",
       "bathroom          False\n",
       "parking spaces    False\n",
       "floor             False\n",
       "animal            False\n",
       "furniture         False\n",
       "hoa               False\n",
       "rent amount       False\n",
       "property tax      False\n",
       "fire insurance    False\n",
       "total             False\n",
       "dtype: bool"
      ]
     },
     "execution_count": 105,
     "metadata": {},
     "output_type": "execute_result"
    }
   ],
   "source": [
    "data.isnull().any()"
   ]
  },
  {
   "cell_type": "code",
   "execution_count": 106,
   "metadata": {},
   "outputs": [
    {
     "name": "stdout",
     "output_type": "stream",
     "text": [
      "<class 'pandas.core.frame.DataFrame'>\n",
      "RangeIndex: 6080 entries, 0 to 6079\n",
      "Data columns (total 13 columns):\n",
      " #   Column          Non-Null Count  Dtype \n",
      "---  ------          --------------  ----- \n",
      " 0   city            6080 non-null   int64 \n",
      " 1   area            6080 non-null   int64 \n",
      " 2   rooms           6080 non-null   int64 \n",
      " 3   bathroom        6080 non-null   int64 \n",
      " 4   parking spaces  6080 non-null   int64 \n",
      " 5   floor           6080 non-null   object\n",
      " 6   animal          6080 non-null   object\n",
      " 7   furniture       6080 non-null   object\n",
      " 8   hoa             6080 non-null   object\n",
      " 9   rent amount     6080 non-null   object\n",
      " 10  property tax    6080 non-null   object\n",
      " 11  fire insurance  6080 non-null   object\n",
      " 12  total           6080 non-null   object\n",
      "dtypes: int64(5), object(8)\n",
      "memory usage: 617.6+ KB\n"
     ]
    }
   ],
   "source": [
    "data.info()"
   ]
  },
  {
   "cell_type": "code",
   "execution_count": 107,
   "metadata": {},
   "outputs": [
    {
     "data": {
      "text/html": [
       "<div>\n",
       "<style scoped>\n",
       "    .dataframe tbody tr th:only-of-type {\n",
       "        vertical-align: middle;\n",
       "    }\n",
       "\n",
       "    .dataframe tbody tr th {\n",
       "        vertical-align: top;\n",
       "    }\n",
       "\n",
       "    .dataframe thead th {\n",
       "        text-align: right;\n",
       "    }\n",
       "</style>\n",
       "<table border=\"1\" class=\"dataframe\">\n",
       "  <thead>\n",
       "    <tr style=\"text-align: right;\">\n",
       "      <th></th>\n",
       "      <th>city</th>\n",
       "      <th>area</th>\n",
       "      <th>rooms</th>\n",
       "      <th>bathroom</th>\n",
       "      <th>parking spaces</th>\n",
       "    </tr>\n",
       "  </thead>\n",
       "  <tbody>\n",
       "    <tr>\n",
       "      <th>count</th>\n",
       "      <td>6080.000000</td>\n",
       "      <td>6080.000000</td>\n",
       "      <td>6080.000000</td>\n",
       "      <td>6080.000000</td>\n",
       "      <td>6080.000000</td>\n",
       "    </tr>\n",
       "    <tr>\n",
       "      <th>mean</th>\n",
       "      <td>0.863322</td>\n",
       "      <td>151.143914</td>\n",
       "      <td>2.492599</td>\n",
       "      <td>2.341612</td>\n",
       "      <td>1.756250</td>\n",
       "    </tr>\n",
       "    <tr>\n",
       "      <th>std</th>\n",
       "      <td>0.343535</td>\n",
       "      <td>375.559485</td>\n",
       "      <td>1.129665</td>\n",
       "      <td>1.438860</td>\n",
       "      <td>1.611909</td>\n",
       "    </tr>\n",
       "    <tr>\n",
       "      <th>min</th>\n",
       "      <td>0.000000</td>\n",
       "      <td>10.000000</td>\n",
       "      <td>1.000000</td>\n",
       "      <td>1.000000</td>\n",
       "      <td>0.000000</td>\n",
       "    </tr>\n",
       "    <tr>\n",
       "      <th>25%</th>\n",
       "      <td>1.000000</td>\n",
       "      <td>58.000000</td>\n",
       "      <td>2.000000</td>\n",
       "      <td>1.000000</td>\n",
       "      <td>1.000000</td>\n",
       "    </tr>\n",
       "    <tr>\n",
       "      <th>50%</th>\n",
       "      <td>1.000000</td>\n",
       "      <td>100.000000</td>\n",
       "      <td>3.000000</td>\n",
       "      <td>2.000000</td>\n",
       "      <td>1.000000</td>\n",
       "    </tr>\n",
       "    <tr>\n",
       "      <th>75%</th>\n",
       "      <td>1.000000</td>\n",
       "      <td>200.000000</td>\n",
       "      <td>3.000000</td>\n",
       "      <td>3.000000</td>\n",
       "      <td>2.000000</td>\n",
       "    </tr>\n",
       "    <tr>\n",
       "      <th>max</th>\n",
       "      <td>1.000000</td>\n",
       "      <td>24606.000000</td>\n",
       "      <td>10.000000</td>\n",
       "      <td>10.000000</td>\n",
       "      <td>12.000000</td>\n",
       "    </tr>\n",
       "  </tbody>\n",
       "</table>\n",
       "</div>"
      ],
      "text/plain": [
       "              city          area        rooms     bathroom  parking spaces\n",
       "count  6080.000000   6080.000000  6080.000000  6080.000000     6080.000000\n",
       "mean      0.863322    151.143914     2.492599     2.341612        1.756250\n",
       "std       0.343535    375.559485     1.129665     1.438860        1.611909\n",
       "min       0.000000     10.000000     1.000000     1.000000        0.000000\n",
       "25%       1.000000     58.000000     2.000000     1.000000        1.000000\n",
       "50%       1.000000    100.000000     3.000000     2.000000        1.000000\n",
       "75%       1.000000    200.000000     3.000000     3.000000        2.000000\n",
       "max       1.000000  24606.000000    10.000000    10.000000       12.000000"
      ]
     },
     "execution_count": 107,
     "metadata": {},
     "output_type": "execute_result"
    }
   ],
   "source": [
    "data.describe()"
   ]
  },
  {
   "cell_type": "markdown",
   "metadata": {},
   "source": [
    "### Data Cleaning"
   ]
  },
  {
   "cell_type": "code",
   "execution_count": 108,
   "metadata": {},
   "outputs": [
    {
     "data": {
      "text/plain": [
       "-     1555\n",
       "1      573\n",
       "3      401\n",
       "2      379\n",
       "4      319\n",
       "5      314\n",
       "6      306\n",
       "8      291\n",
       "7      287\n",
       "9      224\n",
       "10     213\n",
       "11     193\n",
       "12     179\n",
       "13     143\n",
       "14     141\n",
       "15     107\n",
       "16      89\n",
       "17      73\n",
       "18      69\n",
       "19      47\n",
       "20      36\n",
       "21      30\n",
       "23      26\n",
       "25      23\n",
       "22      21\n",
       "24      11\n",
       "27       7\n",
       "28       6\n",
       "26       6\n",
       "29       4\n",
       "32       1\n",
       "99       1\n",
       "51       1\n",
       "68       1\n",
       "31       1\n",
       "85       1\n",
       "35       1\n",
       "Name: floor, dtype: int64"
      ]
     },
     "execution_count": 108,
     "metadata": {},
     "output_type": "execute_result"
    }
   ],
   "source": [
    "data['floor'].value_counts()"
   ]
  },
  {
   "cell_type": "code",
   "execution_count": 110,
   "metadata": {},
   "outputs": [],
   "source": [
    "#remove the '-'\n",
    "import numpy as np\n",
    "data['floor']= data['floor'].replace('-',np.nan)"
   ]
  },
  {
   "cell_type": "code",
   "execution_count": 111,
   "metadata": {},
   "outputs": [
    {
     "data": {
      "text/plain": [
       "1     573\n",
       "3     401\n",
       "2     379\n",
       "4     319\n",
       "5     314\n",
       "6     306\n",
       "8     291\n",
       "7     287\n",
       "9     224\n",
       "10    213\n",
       "11    193\n",
       "12    179\n",
       "13    143\n",
       "14    141\n",
       "15    107\n",
       "16     89\n",
       "17     73\n",
       "18     69\n",
       "19     47\n",
       "20     36\n",
       "21     30\n",
       "23     26\n",
       "25     23\n",
       "22     21\n",
       "24     11\n",
       "27      7\n",
       "28      6\n",
       "26      6\n",
       "29      4\n",
       "31      1\n",
       "32      1\n",
       "99      1\n",
       "51      1\n",
       "85      1\n",
       "68      1\n",
       "35      1\n",
       "Name: floor, dtype: int64"
      ]
     },
     "execution_count": 111,
     "metadata": {},
     "output_type": "execute_result"
    }
   ],
   "source": [
    "data['floor'].value_counts()"
   ]
  },
  {
   "cell_type": "code",
   "execution_count": 113,
   "metadata": {},
   "outputs": [],
   "source": [
    "data['floor']=pd.to_numeric(data['floor'])"
   ]
  },
  {
   "cell_type": "code",
   "execution_count": 114,
   "metadata": {},
   "outputs": [],
   "source": [
    "data['floor'].fillna(data['floor'].mean(), inplace=True)"
   ]
  },
  {
   "cell_type": "code",
   "execution_count": 115,
   "metadata": {},
   "outputs": [
    {
     "data": {
      "text/plain": [
       "7.621436     1555\n",
       "1.000000      573\n",
       "3.000000      401\n",
       "2.000000      379\n",
       "4.000000      319\n",
       "5.000000      314\n",
       "6.000000      306\n",
       "8.000000      291\n",
       "7.000000      287\n",
       "9.000000      224\n",
       "10.000000     213\n",
       "11.000000     193\n",
       "12.000000     179\n",
       "13.000000     143\n",
       "14.000000     141\n",
       "15.000000     107\n",
       "16.000000      89\n",
       "17.000000      73\n",
       "18.000000      69\n",
       "19.000000      47\n",
       "20.000000      36\n",
       "21.000000      30\n",
       "23.000000      26\n",
       "25.000000      23\n",
       "22.000000      21\n",
       "24.000000      11\n",
       "27.000000       7\n",
       "28.000000       6\n",
       "26.000000       6\n",
       "29.000000       4\n",
       "68.000000       1\n",
       "31.000000       1\n",
       "51.000000       1\n",
       "99.000000       1\n",
       "32.000000       1\n",
       "85.000000       1\n",
       "35.000000       1\n",
       "Name: floor, dtype: int64"
      ]
     },
     "execution_count": 115,
     "metadata": {},
     "output_type": "execute_result"
    }
   ],
   "source": [
    "data['floor'].value_counts()"
   ]
  },
  {
   "cell_type": "markdown",
   "metadata": {},
   "source": [
    "### Categorical Variables"
   ]
  },
  {
   "cell_type": "code",
   "execution_count": 82,
   "metadata": {},
   "outputs": [
    {
     "data": {
      "text/plain": [
       "array([1, 0])"
      ]
     },
     "execution_count": 82,
     "metadata": {},
     "output_type": "execute_result"
    }
   ],
   "source": [
    "data['city'].unique()"
   ]
  },
  {
   "cell_type": "code",
   "execution_count": 83,
   "metadata": {},
   "outputs": [
    {
     "data": {
      "text/plain": [
       "array([ 3,  2,  5,  1,  4,  7,  6,  8, 10])"
      ]
     },
     "execution_count": 83,
     "metadata": {},
     "output_type": "execute_result"
    }
   ],
   "source": [
    "data['rooms'].unique()"
   ]
  },
  {
   "cell_type": "code",
   "execution_count": 84,
   "metadata": {},
   "outputs": [
    {
     "data": {
      "text/plain": [
       "array([ 3,  1,  5,  2,  4,  6,  7, 10,  9,  8])"
      ]
     },
     "execution_count": 84,
     "metadata": {},
     "output_type": "execute_result"
    }
   ],
   "source": [
    "data['bathroom'].unique()"
   ]
  },
  {
   "cell_type": "code",
   "execution_count": 85,
   "metadata": {},
   "outputs": [
    {
     "data": {
      "text/plain": [
       "array(['acept', 'not acept'], dtype=object)"
      ]
     },
     "execution_count": 85,
     "metadata": {},
     "output_type": "execute_result"
    }
   ],
   "source": [
    "data['animal'].unique()"
   ]
  },
  {
   "cell_type": "code",
   "execution_count": 86,
   "metadata": {},
   "outputs": [
    {
     "data": {
      "text/plain": [
       "array(['furnished', 'not furnished'], dtype=object)"
      ]
     },
     "execution_count": 86,
     "metadata": {},
     "output_type": "execute_result"
    }
   ],
   "source": [
    "data['furniture'].unique()"
   ]
  },
  {
   "cell_type": "code",
   "execution_count": 87,
   "metadata": {},
   "outputs": [
    {
     "data": {
      "text/plain": [
       "array([ 4,  1,  0,  5,  8,  2,  3,  6,  7, 12])"
      ]
     },
     "execution_count": 87,
     "metadata": {},
     "output_type": "execute_result"
    }
   ],
   "source": [
    "data['parking spaces'].unique()"
   ]
  },
  {
   "cell_type": "code",
   "execution_count": 88,
   "metadata": {},
   "outputs": [],
   "source": [
    "#data['hoa'].value_counts()"
   ]
  },
  {
   "cell_type": "markdown",
   "metadata": {},
   "source": [
    "### Removing dollar"
   ]
  },
  {
   "cell_type": "code",
   "execution_count": 89,
   "metadata": {},
   "outputs": [],
   "source": [
    "#remving dollar signs and other special characters\n",
    "def dollar_delete(x):\n",
    "    x = x[2:]\n",
    "    r=''\n",
    "    for i in x:\n",
    "        if i.isdigit():\n",
    "            r+=i\n",
    "    return r"
   ]
  },
  {
   "cell_type": "code",
   "execution_count": null,
   "metadata": {},
   "outputs": [],
   "source": [
    "#converting object type to integer"
   ]
  },
  {
   "cell_type": "code",
   "execution_count": 90,
   "metadata": {},
   "outputs": [],
   "source": [
    "data['hoa']=pd.to_numeric(data['hoa'].apply(dollar_delete))"
   ]
  },
  {
   "cell_type": "code",
   "execution_count": 91,
   "metadata": {},
   "outputs": [],
   "source": [
    "data['rent amount']=pd.to_numeric(data['rent amount'].apply(dollar_delete))"
   ]
  },
  {
   "cell_type": "code",
   "execution_count": 92,
   "metadata": {},
   "outputs": [],
   "source": [
    "data['property tax']=pd.to_numeric(data['property tax'].apply(dollar_delete))"
   ]
  },
  {
   "cell_type": "code",
   "execution_count": 93,
   "metadata": {},
   "outputs": [],
   "source": [
    "data['fire insurance']=pd.to_numeric(data['fire insurance'].apply(dollar_delete))"
   ]
  },
  {
   "cell_type": "code",
   "execution_count": 94,
   "metadata": {},
   "outputs": [],
   "source": [
    "data['total']=pd.to_numeric(data['total'].apply(dollar_delete))"
   ]
  },
  {
   "cell_type": "code",
   "execution_count": 95,
   "metadata": {},
   "outputs": [
    {
     "data": {
      "text/html": [
       "<div>\n",
       "<style scoped>\n",
       "    .dataframe tbody tr th:only-of-type {\n",
       "        vertical-align: middle;\n",
       "    }\n",
       "\n",
       "    .dataframe tbody tr th {\n",
       "        vertical-align: top;\n",
       "    }\n",
       "\n",
       "    .dataframe thead th {\n",
       "        text-align: right;\n",
       "    }\n",
       "</style>\n",
       "<table border=\"1\" class=\"dataframe\">\n",
       "  <thead>\n",
       "    <tr style=\"text-align: right;\">\n",
       "      <th></th>\n",
       "      <th>city</th>\n",
       "      <th>area</th>\n",
       "      <th>rooms</th>\n",
       "      <th>bathroom</th>\n",
       "      <th>parking spaces</th>\n",
       "      <th>floor</th>\n",
       "      <th>animal</th>\n",
       "      <th>furniture</th>\n",
       "      <th>hoa</th>\n",
       "      <th>rent amount</th>\n",
       "      <th>property tax</th>\n",
       "      <th>fire insurance</th>\n",
       "      <th>total</th>\n",
       "    </tr>\n",
       "  </thead>\n",
       "  <tbody>\n",
       "    <tr>\n",
       "      <th>0</th>\n",
       "      <td>1</td>\n",
       "      <td>240</td>\n",
       "      <td>3</td>\n",
       "      <td>3</td>\n",
       "      <td>4</td>\n",
       "      <td>0</td>\n",
       "      <td>acept</td>\n",
       "      <td>furnished</td>\n",
       "      <td>0.0</td>\n",
       "      <td>8000</td>\n",
       "      <td>1000.0</td>\n",
       "      <td>121</td>\n",
       "      <td>9121</td>\n",
       "    </tr>\n",
       "    <tr>\n",
       "      <th>1</th>\n",
       "      <td>0</td>\n",
       "      <td>64</td>\n",
       "      <td>2</td>\n",
       "      <td>1</td>\n",
       "      <td>1</td>\n",
       "      <td>10</td>\n",
       "      <td>acept</td>\n",
       "      <td>not furnished</td>\n",
       "      <td>540.0</td>\n",
       "      <td>820</td>\n",
       "      <td>122.0</td>\n",
       "      <td>11</td>\n",
       "      <td>1493</td>\n",
       "    </tr>\n",
       "    <tr>\n",
       "      <th>2</th>\n",
       "      <td>1</td>\n",
       "      <td>443</td>\n",
       "      <td>5</td>\n",
       "      <td>5</td>\n",
       "      <td>4</td>\n",
       "      <td>3</td>\n",
       "      <td>acept</td>\n",
       "      <td>furnished</td>\n",
       "      <td>4172.0</td>\n",
       "      <td>7000</td>\n",
       "      <td>1417.0</td>\n",
       "      <td>89</td>\n",
       "      <td>12680</td>\n",
       "    </tr>\n",
       "    <tr>\n",
       "      <th>3</th>\n",
       "      <td>1</td>\n",
       "      <td>73</td>\n",
       "      <td>2</td>\n",
       "      <td>2</td>\n",
       "      <td>1</td>\n",
       "      <td>12</td>\n",
       "      <td>acept</td>\n",
       "      <td>not furnished</td>\n",
       "      <td>700.0</td>\n",
       "      <td>1250</td>\n",
       "      <td>150.0</td>\n",
       "      <td>16</td>\n",
       "      <td>2116</td>\n",
       "    </tr>\n",
       "    <tr>\n",
       "      <th>4</th>\n",
       "      <td>1</td>\n",
       "      <td>19</td>\n",
       "      <td>1</td>\n",
       "      <td>1</td>\n",
       "      <td>0</td>\n",
       "      <td>0</td>\n",
       "      <td>not acept</td>\n",
       "      <td>not furnished</td>\n",
       "      <td>0.0</td>\n",
       "      <td>1200</td>\n",
       "      <td>41.0</td>\n",
       "      <td>16</td>\n",
       "      <td>1257</td>\n",
       "    </tr>\n",
       "  </tbody>\n",
       "</table>\n",
       "</div>"
      ],
      "text/plain": [
       "   city  area  rooms  bathroom  parking spaces floor     animal  \\\n",
       "0     1   240      3         3               4     0      acept   \n",
       "1     0    64      2         1               1    10      acept   \n",
       "2     1   443      5         5               4     3      acept   \n",
       "3     1    73      2         2               1    12      acept   \n",
       "4     1    19      1         1               0     0  not acept   \n",
       "\n",
       "       furniture     hoa  rent amount  property tax  fire insurance  total  \n",
       "0      furnished     0.0         8000        1000.0             121   9121  \n",
       "1  not furnished   540.0          820         122.0              11   1493  \n",
       "2      furnished  4172.0         7000        1417.0              89  12680  \n",
       "3  not furnished   700.0         1250         150.0              16   2116  \n",
       "4  not furnished     0.0         1200          41.0              16   1257  "
      ]
     },
     "execution_count": 95,
     "metadata": {},
     "output_type": "execute_result"
    }
   ],
   "source": [
    "data.head()"
   ]
  },
  {
   "cell_type": "code",
   "execution_count": 96,
   "metadata": {},
   "outputs": [
    {
     "name": "stdout",
     "output_type": "stream",
     "text": [
      "<class 'pandas.core.frame.DataFrame'>\n",
      "RangeIndex: 6080 entries, 0 to 6079\n",
      "Data columns (total 13 columns):\n",
      " #   Column          Non-Null Count  Dtype  \n",
      "---  ------          --------------  -----  \n",
      " 0   city            6080 non-null   int64  \n",
      " 1   area            6080 non-null   int64  \n",
      " 2   rooms           6080 non-null   int64  \n",
      " 3   bathroom        6080 non-null   int64  \n",
      " 4   parking spaces  6080 non-null   int64  \n",
      " 5   floor           6080 non-null   object \n",
      " 6   animal          6080 non-null   object \n",
      " 7   furniture       6080 non-null   object \n",
      " 8   hoa             5878 non-null   float64\n",
      " 9   rent amount     6080 non-null   int64  \n",
      " 10  property tax    6053 non-null   float64\n",
      " 11  fire insurance  6080 non-null   int64  \n",
      " 12  total           6080 non-null   int64  \n",
      "dtypes: float64(2), int64(8), object(3)\n",
      "memory usage: 617.6+ KB\n"
     ]
    }
   ],
   "source": [
    "data.info()"
   ]
  },
  {
   "cell_type": "code",
   "execution_count": null,
   "metadata": {},
   "outputs": [],
   "source": []
  }
 ],
 "metadata": {
  "kernelspec": {
   "display_name": "Python 3",
   "language": "python",
   "name": "python3"
  },
  "language_info": {
   "codemirror_mode": {
    "name": "ipython",
    "version": 3
   },
   "file_extension": ".py",
   "mimetype": "text/x-python",
   "name": "python",
   "nbconvert_exporter": "python",
   "pygments_lexer": "ipython3",
   "version": "3.8.3"
  }
 },
 "nbformat": 4,
 "nbformat_minor": 4
}
